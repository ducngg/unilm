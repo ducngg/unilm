{
 "cells": [
  {
   "cell_type": "code",
   "execution_count": null,
   "id": "d88b5bcb-1879-4910-b057-8685f799eb95",
   "metadata": {},
   "outputs": [],
   "source": [
    "\n",
    "import sys\n",
    "from argparse import Namespace\n",
    "\n",
    "import torch\n",
    "from torch import nn\n",
    "\n",
    "import utils\n",
    "from datasets import build_transform\n",
    "from modeling_finetune import beit3_base_patch16_480_vqav2\n",
    "from modeling_utils import BEiT3Wrapper, _get_base_config\n",
    "from run_beit3_finetuning import get_args\n",
    "\n",
    "\n",
    "sys.argv = [\n",
    "    'script.py',\n",
    "    '--model', 'beit3_base_patch16_224',\n",
    "    '--input_size', '224',\n",
    "    '--task', 'flickr30k',  # just because required\n",
    "    '--batch_size', '16',\n",
    "    '--sentencepiece_model', '/content/unilm/beit3/beit3.spm',\n",
    "    '--finetune', '/content/unilm/beit3/beit3_base_patch16_224.pth',\n",
    "    '--num_workers', '0',\n",
    "    '--randaug',  # augmentations\n",
    "]\n",
    "\n",
    "args = get_args()[0]\n",
    "\n",
    "beit_train_transform = build_transform(is_train=True, args=args)\n",
    "beit_eval_transform = build_transform(is_train=False, args=args)\n",
    "\n",
    "beit_args = _get_base_config(**vars(args))\n",
    "beit_wrapper = BEiT3BinaryImageClassification(beit_args)\n",
    "utils.load_model_and_may_interpolate(args.finetune, beit_wrapper, args.model_key, args.model_prefix)\n",
    "beit_wrapper.to(args.device)\n",
    "beit_wrapper.beit3.eval()"
   ]
  },
  {
   "cell_type": "code",
   "execution_count": null,
   "id": "e616b88a-c247-4bf3-8370-ffeb9ab02d07",
   "metadata": {},
   "outputs": [],
   "source": [
    "\n",
    "import sys\n",
    "from argparse import Namespace\n",
    "\n",
    "import torch\n",
    "from torch import nn\n",
    "\n",
    "import utils\n",
    "from datasets import build_transform\n",
    "from modeling_finetune import beit3_base_patch16_480_vqav2\n",
    "from modeling_utils import BEiT3Wrapper, _get_base_config\n",
    "from run_beit3_finetuning import get_args\n"
   ]
  },
  {
   "cell_type": "code",
   "execution_count": null,
   "id": "6aefeed0-0c88-436b-a3d4-f77f46750393",
   "metadata": {},
   "outputs": [],
   "source": []
  }
 ],
 "metadata": {
  "kernelspec": {
   "display_name": "Python 3 (ipykernel)",
   "language": "python",
   "name": "python3"
  },
  "language_info": {
   "codemirror_mode": {
    "name": "ipython",
    "version": 3
   },
   "file_extension": ".py",
   "mimetype": "text/x-python",
   "name": "python",
   "nbconvert_exporter": "python",
   "pygments_lexer": "ipython3",
   "version": "3.11.0rc1"
  }
 },
 "nbformat": 4,
 "nbformat_minor": 5
}
